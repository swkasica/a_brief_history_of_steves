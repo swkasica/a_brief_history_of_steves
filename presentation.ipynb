{
 "cells": [
  {
   "cell_type": "markdown",
   "metadata": {
    "slideshow": {
     "slide_type": "slide"
    }
   },
   "source": [
    "# A Brief History of Steves"
   ]
  },
  {
   "cell_type": "markdown",
   "metadata": {},
   "source": [
    "## "
   ]
  },
  {
   "cell_type": "code",
   "execution_count": 12,
   "metadata": {
    "slideshow": {
     "slide_type": "skip"
    }
   },
   "outputs": [],
   "source": [
    "from vega import Vega"
   ]
  },
  {
   "cell_type": "markdown",
   "metadata": {
    "slideshow": {
     "slide_type": "slide"
    }
   },
   "source": [
    "# The Tree of Steve\n",
    "\n",
    "Stefan, Stefen, Stefon, Stephon, Stevan, Stevon.\n",
    "Stephano (Shakespearean)\n",
    "Short Steve"
   ]
  },
  {
   "cell_type": "markdown",
   "metadata": {
    "slideshow": {
     "slide_type": "fragment"
    }
   },
   "source": [
    "!(http://bookwormbear.com/wp-content/uploads/2015/01/1treeStevebook.png)"
   ]
  },
  {
   "cell_type": "code",
   "execution_count": 53,
   "metadata": {
    "slideshow": {
     "slide_type": "skip"
    }
   },
   "outputs": [],
   "source": [
    "tree = Vega({\n",
    "    \"$schema\": \"https://vega.github.io/schema/vega/v4.json\",\n",
    "    \"width\": 600,\n",
    "    \"height\": 600,\n",
    "    \"padding\": 3,\n",
    "    \"signals\": [\n",
    "        {\n",
    "            \"name\": \"labels\", \n",
    "            \"value\": True\n",
    "        },\n",
    "        {\n",
    "            \"name\": \"layout\", \n",
    "            \"value\": \"tidy\"\n",
    "        },\n",
    "        {\n",
    "            \"name\": \"links\", \n",
    "            \"value\": \"orthogonal\"\n",
    "        }\n",
    "    ],\n",
    "    \"data\": [\n",
    "        {\n",
    "            \"name\": \"tree\",\n",
    "            \"values\": [\n",
    "                { \"id\": 2,  \"name\": \"Στέφανος (Stéphanos)\"},\n",
    "                { \"id\": 3,  \"name\": \"\", \"parent\": 2},\n",
    "                { \"id\": 4,  \"name\": \"Steven\",  \"parent\": 3},\n",
    "                { \"id\": 5,  \"name\": \"Stephen\", \"parent\": 3},\n",
    "                { \"id\": 6,  \"name\": \"Steph[ae]n \\\"Stephan\\\"\", \"parent\": 2},\n",
    "                { \"id\": 7,  \"name\": \"Steve\", \"parent\": 4 },\n",
    "                { \"id\": 8,  \"name\": \"Stevie\", \"parent\": 4 },               \n",
    "                { \"id\": 9,  \"name\": \"Steve-o\", \"parent\": 4 },\n",
    "                { \"id\": 10, \"name\": \"Steph\", \"parent\": 6},\n",
    "                { \"id\": 11, \"name\": \"Stephe \\\"Steve\\\"\", \"parent\": 5}, \n",
    "                { \"id\": 12, \"name\": \"Stefan\", \"parent\": 6},\n",
    "                { \"id\": 13, \"name\": \"Stefon\", \"parent\": 6},                \n",
    "                { \"id\": 14, \"name\": \"Stevesy\", \"parent\": 4},\n",
    "                { \"id\": 15, \"name\": \"Stephanie\", \"parent\": 6},\n",
    "                { \"id\": 16, \"name\": \"Stevesaurus Rex\", \"parent\": 4},\n",
    "                { \"id\": 17, \"name\": \"Esteban\", \"parent\": 2},\n",
    "            ],\n",
    "            \"transform\": [\n",
    "                {\n",
    "                    \"type\": \"stratify\",\n",
    "                    \"key\": \"id\",\n",
    "                    \"parentKey\": \"parent\"\n",
    "                },\n",
    "                {\n",
    "                    \"type\": \"tree\",\n",
    "                    \"method\": { \"signal\": \"layout\" },\n",
    "                    \"size\": [ \n",
    "                        { \"signal\": \"height\" }, \n",
    "                        { \"signal\": \"width - 100\" }\n",
    "                    ],\n",
    "                    \"as\": [ \"y\", \"x\", \"depth\", \"children\" ]\n",
    "                }\n",
    "            ]\n",
    "        },\n",
    "        {\n",
    "            \"name\": \"links\",\n",
    "            \"source\": \"tree\",\n",
    "            \"transform\": [\n",
    "                { \"type\": \"treelinks\" },\n",
    "                { \n",
    "                    \"type\": \"linkpath\",\n",
    "                    \"orient\": \"horizontal\",\n",
    "                    \"shape\": { \"signal\": \"links\" }\n",
    "                }\n",
    "            ]\n",
    "        }\n",
    "    ],\n",
    "    \"scales\": [\n",
    "        {\n",
    "            \"name\": \"color\",\n",
    "            \"type\": \"sequential\",\n",
    "            \"range\": {\"scheme\": \"magma\"},\n",
    "            \"domain\": {\"data\": \"tree\", \"field\": \"depth\"},\n",
    "            \"zero\": True\n",
    "        }\n",
    "    ],\n",
    "    \"marks\": [\n",
    "        {\n",
    "            \"type\": \"path\",\n",
    "            \"from\": {\"data\": \"links\"},\n",
    "            \"encode\": {\n",
    "                \"update\": {\n",
    "                    \"path\": {\"field\": \"path\"},\n",
    "                    \"stroke\": {\"value\": \"#ccc\"}\n",
    "                }\n",
    "            }\n",
    "        },\n",
    "        {\n",
    "            \"type\": \"symbol\",\n",
    "            \"from\": {\"data\": \"tree\"},\n",
    "            \"encode\": {\n",
    "                \"enter\": {\n",
    "                \"size\": {\"value\": 100},\n",
    "                \"stroke\": {\"value\": \"#fff\"}\n",
    "            },\n",
    "                \"update\": {\n",
    "                    \"x\": {\"field\": \"x\"},\n",
    "                    \"y\": {\"field\": \"y\"},\n",
    "                    \"fill\": {\"scale\": \"color\", \"field\": \"depth\"}\n",
    "            }\n",
    "            }\n",
    "        },\n",
    "        {\n",
    "            \"type\": \"text\",\n",
    "            \"from\": {\"data\": \"tree\"},\n",
    "            \"encode\": {\n",
    "                \"enter\": {\n",
    "                    \"text\": {\"field\": \"name\"},\n",
    "                    \"fontSize\": { \"value\": 16 },\n",
    "                    \"baseline\": {\"value\": \"middle\"}\n",
    "                },\n",
    "                \"update\": {\n",
    "                    \"x\": {\"field\": \"x\"},\n",
    "                    \"y\": {\"field\": \"y\"},\n",
    "                    \"dx\": {\"signal\": \"datum.children ? -7 : 7\"},\n",
    "                    \"align\": {\"signal\": \"datum.children ? 'right' : 'left'\"},\n",
    "                    \"opacity\": {\"signal\": \"labels ? 1 : 0\"}\n",
    "                }\n",
    "            }\n",
    "        }\n",
    "    ]\n",
    "})"
   ]
  },
  {
   "cell_type": "code",
   "execution_count": 54,
   "metadata": {
    "slideshow": {
     "slide_type": "subslide"
    }
   },
   "outputs": [
    {
     "data": {
      "application/javascript": [
       "var spec = {\"$schema\": \"https://vega.github.io/schema/vega/v4.json\", \"width\": 600, \"height\": 600, \"padding\": 3, \"signals\": [{\"name\": \"labels\", \"value\": true}, {\"name\": \"layout\", \"value\": \"tidy\"}, {\"name\": \"links\", \"value\": \"orthogonal\"}], \"data\": [{\"name\": \"tree\", \"values\": [{\"id\": 2, \"name\": \"\\u03a3\\u03c4\\u03ad\\u03c6\\u03b1\\u03bd\\u03bf\\u03c2 (St\\u00e9phanos)\"}, {\"id\": 3, \"name\": \"\", \"parent\": 2}, {\"id\": 4, \"name\": \"Steven\", \"parent\": 3}, {\"id\": 5, \"name\": \"Stephen\", \"parent\": 3}, {\"id\": 6, \"name\": \"Steph[ae]n \\\"Stephan\\\"\", \"parent\": 2}, {\"id\": 7, \"name\": \"Steve\", \"parent\": 4}, {\"id\": 8, \"name\": \"Stevie\", \"parent\": 4}, {\"id\": 9, \"name\": \"Steve-o\", \"parent\": 4}, {\"id\": 10, \"name\": \"Steph\", \"parent\": 6}, {\"id\": 11, \"name\": \"Stephe \\\"Steve\\\"\", \"parent\": 5}, {\"id\": 12, \"name\": \"Stefan\", \"parent\": 6}, {\"id\": 13, \"name\": \"Stefon\", \"parent\": 6}, {\"id\": 14, \"name\": \"Stevesy\", \"parent\": 4}, {\"id\": 15, \"name\": \"Stephanie\", \"parent\": 6}, {\"id\": 16, \"name\": \"Stevesaurus Rex\", \"parent\": 4}, {\"id\": 17, \"name\": \"Esteban\", \"parent\": 2}], \"transform\": [{\"type\": \"stratify\", \"key\": \"id\", \"parentKey\": \"parent\"}, {\"type\": \"tree\", \"method\": {\"signal\": \"layout\"}, \"size\": [{\"signal\": \"height\"}, {\"signal\": \"width - 100\"}], \"as\": [\"y\", \"x\", \"depth\", \"children\"]}]}, {\"name\": \"links\", \"source\": \"tree\", \"transform\": [{\"type\": \"treelinks\"}, {\"type\": \"linkpath\", \"orient\": \"horizontal\", \"shape\": {\"signal\": \"links\"}}]}], \"scales\": [{\"name\": \"color\", \"type\": \"sequential\", \"range\": {\"scheme\": \"magma\"}, \"domain\": {\"data\": \"tree\", \"field\": \"depth\"}, \"zero\": true}], \"marks\": [{\"type\": \"path\", \"from\": {\"data\": \"links\"}, \"encode\": {\"update\": {\"path\": {\"field\": \"path\"}, \"stroke\": {\"value\": \"#ccc\"}}}}, {\"type\": \"symbol\", \"from\": {\"data\": \"tree\"}, \"encode\": {\"enter\": {\"size\": {\"value\": 100}, \"stroke\": {\"value\": \"#fff\"}}, \"update\": {\"x\": {\"field\": \"x\"}, \"y\": {\"field\": \"y\"}, \"fill\": {\"scale\": \"color\", \"field\": \"depth\"}}}}, {\"type\": \"text\", \"from\": {\"data\": \"tree\"}, \"encode\": {\"enter\": {\"text\": {\"field\": \"name\"}, \"fontSize\": {\"value\": 16}, \"baseline\": {\"value\": \"middle\"}}, \"update\": {\"x\": {\"field\": \"x\"}, \"y\": {\"field\": \"y\"}, \"dx\": {\"signal\": \"datum.children ? -7 : 7\"}, \"align\": {\"signal\": \"datum.children ? 'right' : 'left'\"}, \"opacity\": {\"signal\": \"labels ? 1 : 0\"}}}}]};\n",
       "var opt = {};\n",
       "var type = \"vega\";\n",
       "var id = \"28f9b4de-4057-434f-bf5d-6844464fa1a9\";\n",
       "\n",
       "var output_area = this;\n",
       "\n",
       "require([\"nbextensions/jupyter-vega/index\"], function(vega) {\n",
       "  var target = document.createElement(\"div\");\n",
       "  target.id = id;\n",
       "  target.className = \"vega-embed\";\n",
       "\n",
       "  var style = document.createElement(\"style\");\n",
       "  style.textContent = [\n",
       "    \".vega-embed .error p {\",\n",
       "    \"  color: firebrick;\",\n",
       "    \"  font-size: 14px;\",\n",
       "    \"}\",\n",
       "  ].join(\"\\\\n\");\n",
       "\n",
       "  // element is a jQuery wrapped DOM element inside the output area\n",
       "  // see http://ipython.readthedocs.io/en/stable/api/generated/\\\n",
       "  // IPython.display.html#IPython.display.Javascript.__init__\n",
       "  element[0].appendChild(target);\n",
       "  element[0].appendChild(style);\n",
       "\n",
       "  vega.render(\"#\" + id, spec, type, opt, output_area);\n",
       "}, function (err) {\n",
       "  if (err.requireType !== \"scripterror\") {\n",
       "    throw(err);\n",
       "  }\n",
       "});\n"
      ],
      "text/plain": [
       "<vega.vega.Vega at 0x7f21a46f04a8>"
      ]
     },
     "execution_count": 54,
     "metadata": {
      "jupyter-vega": "#28f9b4de-4057-434f-bf5d-6844464fa1a9"
     },
     "output_type": "execute_result"
    },
    {
     "data": {
      "image/png": "[encoded data removed]"
     },
     "metadata": {
      "jupyter-vega": "#28f9b4de-4057-434f-bf5d-6844464fa1a9"
     },
     "output_type": "display_data"
    }
   ],
   "source": [
    "tree"
   ]
  },
  {
   "cell_type": "markdown",
   "metadata": {
    "slideshow": {
     "slide_type": "slide"
    }
   },
   "source": [
    "## Stephen vs. Steven"
   ]
  },
  {
   "cell_type": "code",
   "execution_count": null,
   "metadata": {},
   "outputs": [],
   "source": []
  }
 ],
 "metadata": {
  "celltoolbar": "Slideshow",
  "kernelspec": {
   "display_name": "Python 3",
   "language": "python",
   "name": "python3"
  },
  "language_info": {
   "codemirror_mode": {
    "name": "ipython",
    "version": 3
   },
   "file_extension": ".py",
   "mimetype": "text/x-python",
   "name": "python",
   "nbconvert_exporter": "python",
   "pygments_lexer": "ipython3",
   "version": "3.6.7"
  }
 },
 "nbformat": 4,
 "nbformat_minor": 2
}
